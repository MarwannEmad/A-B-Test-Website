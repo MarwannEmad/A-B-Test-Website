{
 "cells": [
  {
   "cell_type": "markdown",
   "metadata": {},
   "source": [
    "## Analyze A/B Test Results\n",
    "\n",
    "The project goal is to work through this notebook and understand the results of an A/B test run by an e-commerce website to guide the company if they should implement the new page, keep the old page, or perhaps run the experiment longer to make their decision.\n",
    "\n",
    "\n",
    "\n",
    "### A/B Testing\n",
    "\n",
    "A/B tests are experiments conducted on a web page to evaluate changes. In an A/B test, a control group is shown the old version of the web page, while an experiment group is shown the new version. A metric is then chosen to measure user engagement in each group. The results are used to determine if the new version is more effective than the old version. \n",
    "\n",
    "A/B testing is analogous to hypothesis testing, with the following hypotheses:\n",
    "\n",
    "- **Null Hypothesis:** The new version is no better or worse than the old version.\n",
    "- **Alternative Hypothesis:** The new version is better than the old version.\n",
    "\n",
    "If we fail to reject the null hypothesis, it suggests keeping the old version. If we reject the null hypothesis, it suggests launching the change. A/B tests can assess a wide range of changes, from major feature additions to minor color adjustments, to identify the change that maximizes the chosen metric.\n",
    "\n",
    "### Drawbacks of A/B Testing\n",
    "\n",
    "While A/B testing is valuable, it has limitations:\n",
    "\n",
    "1. **Change Aversion:** Existing users may prefer the old version due to resistance to change, even if the new version is superior.\n",
    "2. **Novelty Effect:** Existing users may prefer the new version due to its novelty, even if it isn't objectively better in the long term.\n",
    "\n",
    "These biases can affect the reliability of A/B test results, especially when testing on existing users. It's important to consider these factors when interpreting A/B test outcomes.\n",
    "\n",
    "\n",
    "We'll analyze the A/B test results for an online education company. The company has a customer funnel for typical new users on their site:\n",
    "\n",
    "1. **View home page**\n",
    "2. **Explore courses**\n",
    "3. **View course overview page**\n",
    "4. **Enroll in course**\n",
    "5. **Complete course**\n",
    "\n",
    "Similar to many online platforms, the company experiences a drop-off in users as they progress through each stage of the funnel, with only a few users reaching the final stage of completing a course. To address this issue and increase student engagement, the company is conducting A/B tests to evaluate changes aimed at improving conversion rates from one stage to the next.\n",
    "\n",
    "We’ll analyze test results for two changes they have in mind and then make a recommendation on :\n",
    "1) The first change they want to try is on their homepage. They hope that this new, more engaging design will increase the number of users who explore their courses. The metric we will use is the click-through rate for the Explore Courses button on the home page. Click-through rate (CTR) is often defined as the number of clicks divided by the number of views.\n",
    "\n",
    "2) The second change, They want to conduct A/B testing which is a more career-focused description on a course overview page. They hope that this change may encourage more users to enroll and complete this course. In this experiment, we’re going to analyze the following metrics:\n",
    "\n",
    "    - Enrollment Rate: Click-through rate for the Enroll button on the course overview page\n",
    "    - Average Reading Duration: Average number of seconds spent on the course overview page\n",
    "    - Average Classroom Time: Average number of days spent in the classroom for students enrolled in the course\n",
    "    - Completion Rate: Course completion rate for students enrolled in the course\n",
    "\n",
    "\n",
    "\n"
   ]
  },
  {
   "cell_type": "markdown",
   "metadata": {},
   "source": [
    "---"
   ]
  },
  {
   "cell_type": "markdown",
   "metadata": {},
   "source": [
    "## 1) The First Change \n",
    "They want to try is on their homepage. They hope that this new, more engaging design will increase the number of users who explore their courses. The metric we will use is the click-through rate for the Explore Courses button on the home page. Click-through rate (CTR) is often defined as the number of clicks divided by the number of views."
   ]
  },
  {
   "cell_type": "markdown",
   "metadata": {},
   "source": [
    "Metric: CTR: # clicks by unique users / # views by unique users\n",
    "\n",
    "Now that we have our metric, let's set up our null and alternative hypotheses:\n",
    "\n",
    "$$ H_0 : CTR_{{new}}<= CTR_{{old}}$$\n",
    "\n",
    "\n",
    "$$H_1 : CTR_{{new}} > CTR_{{old}}$$\n",
    "\n",
    "Our alternative hypothesis is what we want to prove to be true. In this case, the new homepage design has a higher click-through rate than the old homepage design. And the null hypothesis is what we assume to be true before analyzing data, which is that the new homepage design has a click-through rate that is less than or equal to that of the old homepage design. "
   ]
  },
  {
   "cell_type": "code",
   "execution_count": 1,
   "metadata": {},
   "outputs": [],
   "source": [
    "import numpy as np\n",
    "import pandas as pd \n",
    "import matplotlib.pyplot as plt\n",
    "\n",
    "np.random.seed(42)"
   ]
  },
  {
   "cell_type": "code",
   "execution_count": 2,
   "metadata": {},
   "outputs": [
    {
     "data": {
      "text/html": [
       "<div>\n",
       "<style scoped>\n",
       "    .dataframe tbody tr th:only-of-type {\n",
       "        vertical-align: middle;\n",
       "    }\n",
       "\n",
       "    .dataframe tbody tr th {\n",
       "        vertical-align: top;\n",
       "    }\n",
       "\n",
       "    .dataframe thead th {\n",
       "        text-align: right;\n",
       "    }\n",
       "</style>\n",
       "<table border=\"1\" class=\"dataframe\">\n",
       "  <thead>\n",
       "    <tr style=\"text-align: right;\">\n",
       "      <th></th>\n",
       "      <th>timestamp</th>\n",
       "      <th>id</th>\n",
       "      <th>group</th>\n",
       "      <th>action</th>\n",
       "    </tr>\n",
       "  </thead>\n",
       "  <tbody>\n",
       "    <tr>\n",
       "      <th>0</th>\n",
       "      <td>2016-09-24 17:42:27.839496</td>\n",
       "      <td>804196</td>\n",
       "      <td>experiment</td>\n",
       "      <td>view</td>\n",
       "    </tr>\n",
       "    <tr>\n",
       "      <th>1</th>\n",
       "      <td>2016-09-24 19:19:03.542569</td>\n",
       "      <td>434745</td>\n",
       "      <td>experiment</td>\n",
       "      <td>view</td>\n",
       "    </tr>\n",
       "    <tr>\n",
       "      <th>2</th>\n",
       "      <td>2016-09-24 19:36:00.944135</td>\n",
       "      <td>507599</td>\n",
       "      <td>experiment</td>\n",
       "      <td>view</td>\n",
       "    </tr>\n",
       "    <tr>\n",
       "      <th>3</th>\n",
       "      <td>2016-09-24 19:59:02.646620</td>\n",
       "      <td>671993</td>\n",
       "      <td>control</td>\n",
       "      <td>view</td>\n",
       "    </tr>\n",
       "    <tr>\n",
       "      <th>4</th>\n",
       "      <td>2016-09-24 20:26:14.466886</td>\n",
       "      <td>536734</td>\n",
       "      <td>experiment</td>\n",
       "      <td>view</td>\n",
       "    </tr>\n",
       "  </tbody>\n",
       "</table>\n",
       "</div>"
      ],
      "text/plain": [
       "                    timestamp      id       group action\n",
       "0  2016-09-24 17:42:27.839496  804196  experiment   view\n",
       "1  2016-09-24 19:19:03.542569  434745  experiment   view\n",
       "2  2016-09-24 19:36:00.944135  507599  experiment   view\n",
       "3  2016-09-24 19:59:02.646620  671993     control   view\n",
       "4  2016-09-24 20:26:14.466886  536734  experiment   view"
      ]
     },
     "execution_count": 2,
     "metadata": {},
     "output_type": "execute_result"
    }
   ],
   "source": [
    "\n",
    "df_homepage = pd.read_csv(\"homepage_actions.csv\")\n",
    "df_homepage.head()"
   ]
  },
  {
   "cell_type": "code",
   "execution_count": 3,
   "metadata": {},
   "outputs": [],
   "source": [
    "control_df_homepage = df_homepage.query('group == \"control\"')"
   ]
  },
  {
   "cell_type": "code",
   "execution_count": 4,
   "metadata": {},
   "outputs": [],
   "source": [
    "control_df_homepage_ctr = control_df_homepage.query('action == \"click\"').id.nunique() / control_df_homepage.query('action == \"view\"').id.nunique() "
   ]
  },
  {
   "cell_type": "code",
   "execution_count": 5,
   "metadata": {},
   "outputs": [
    {
     "data": {
      "text/plain": [
       "0.2797118847539016"
      ]
     },
     "execution_count": 5,
     "metadata": {},
     "output_type": "execute_result"
    }
   ],
   "source": [
    "control_df_homepage_ctr"
   ]
  },
  {
   "cell_type": "code",
   "execution_count": 6,
   "metadata": {},
   "outputs": [],
   "source": [
    "experiment_df_homepage = df_homepage.query('group == \"experiment\"')"
   ]
  },
  {
   "cell_type": "code",
   "execution_count": 7,
   "metadata": {},
   "outputs": [],
   "source": [
    "experiment_df_homepage_ctr = experiment_df_homepage.query('action == \"click\"').id.nunique() / experiment_df_homepage.query('action == \"view\"').id.nunique() "
   ]
  },
  {
   "cell_type": "code",
   "execution_count": 8,
   "metadata": {},
   "outputs": [
    {
     "data": {
      "text/plain": [
       "0.3097463284379172"
      ]
     },
     "execution_count": 8,
     "metadata": {},
     "output_type": "execute_result"
    }
   ],
   "source": [
    "experiment_df_homepage_ctr"
   ]
  },
  {
   "cell_type": "code",
   "execution_count": 9,
   "metadata": {},
   "outputs": [
    {
     "data": {
      "text/plain": [
       "0.030034443684015644"
      ]
     },
     "execution_count": 9,
     "metadata": {},
     "output_type": "execute_result"
    }
   ],
   "source": [
    "obs_diff = experiment_df_homepage_ctr - control_df_homepage_ctr\n",
    "obs_diff"
   ]
  },
  {
   "cell_type": "code",
   "execution_count": 10,
   "metadata": {},
   "outputs": [],
   "source": [
    "# Create a sampling distribution of the difference in proportions\n",
    "# with bootstrapping\n",
    "diff_homepage_ctr = []\n",
    "for _ in range(10000):\n",
    "    bootsample = df_homepage.sample(df_homepage.shape[0],replace = True)\n",
    "    control_df = bootsample.query('group == \"control\"')\n",
    "    experiment_df = bootsample.query('group == \"experiment\"')\n",
    "    control_ctr = control_df.query('action == \"click\"').id.nunique() / control_df.query('action == \"view\"').id.nunique() \n",
    "    experiment_ctr = experiment_df.query('action == \"click\"').id.nunique() / experiment_df.query('action == \"view\"').id.nunique()\n",
    "    diff_homepage_ctr.append(experiment_ctr - control_ctr)\n"
   ]
  },
  {
   "cell_type": "code",
   "execution_count": 11,
   "metadata": {},
   "outputs": [
    {
     "data": {
      "image/png": "[encoded data removed]",
      "text/plain": [
       "<Figure size 640x480 with 1 Axes>"
      ]
     },
     "metadata": {},
     "output_type": "display_data"
    }
   ],
   "source": [
    "plt.hist(diff_homepage_ctr);"
   ]
  },
  {
   "cell_type": "code",
   "execution_count": 12,
   "metadata": {},
   "outputs": [],
   "source": [
    "diff_homepage_ctr = np.array(diff_homepage_ctr)\n",
    "null_vals = np.random.normal(0,diff_homepage_ctr.std(), diff_homepage_ctr.size)"
   ]
  },
  {
   "cell_type": "code",
   "execution_count": 13,
   "metadata": {},
   "outputs": [
    {
     "name": "stdout",
     "output_type": "stream",
     "text": [
      "                 Statistic =  0.030034443684015644\n"
     ]
    },
    {
     "data": {
      "image/png": "[encoded data removed]",
      "text/plain": [
       "<Figure size 640x480 with 1 Axes>"
      ]
     },
     "metadata": {},
     "output_type": "display_data"
    }
   ],
   "source": [
    "plt.hist(null_vals);\n",
    "plt.axvline(x = obs_diff, color = \"red\");\n",
    "print(\"                 Statistic = \",obs_diff)"
   ]
  },
  {
   "cell_type": "markdown",
   "metadata": {},
   "source": [
    "#### Calculating the P-value"
   ]
  },
  {
   "cell_type": "code",
   "execution_count": 14,
   "metadata": {},
   "outputs": [
    {
     "data": {
      "text/plain": [
       "0.0055"
      ]
     },
     "execution_count": 14,
     "metadata": {},
     "output_type": "execute_result"
    }
   ],
   "source": [
    "p_value = (null_vals > obs_diff).mean()\n",
    "p_value"
   ]
  },
  {
   "cell_type": "markdown",
   "metadata": {},
   "source": [
    "#### Conclusion\n",
    "We will reject the null hypothesis as the P-value = 0.0055 which is less than 0.05 and we use confidence of 95% (α = 0.05) this means that the new homepage has more click-through rate for the Explore Courses button this could be an advantage or a good indicator to make the company run the new homepage\n"
   ]
  },
  {
   "cell_type": "markdown",
   "metadata": {},
   "source": [
    "---"
   ]
  },
  {
   "cell_type": "markdown",
   "metadata": {},
   "source": [
    "\n",
    "## 2) The Second Change\n",
    "\n",
    "The second change they want to try is on their description of course overview page . They hope that this change may encourage more users to enroll and complete this course, and we're going to analyze the following metrics:\n",
    "\n",
    "1. **Enrollment Rate:** Click-through rate for the Enroll button on the course overview page\n",
    "2. **Average Reading Duration:** Average number of seconds spent on the course overview page\n",
    "3. **Average Classroom Time:** Average number of days spent in the classroom for students enrolled in the course\n",
    "4. **Completion Rate:** Course completion rate for students enrolled in the course\n",
    "\n",
    "\n",
    "\n",
    "\n"
   ]
  },
  {
   "cell_type": "markdown",
   "metadata": {},
   "source": [
    "<hr style=\"border-top: 0.2px solid rgba(#ccc,0.02);\">"
   ]
  },
  {
   "cell_type": "markdown",
   "metadata": {},
   "source": [
    "\n",
    "\n",
    "\n",
    "\n",
    "1) Enrollment Rate\n",
    "\n",
    "    Metric: CTR: # clicks on enroll button by unique users / # views by unique users\n",
    "\n",
    "    Now that we have our metric, let's set up our null and alternative hypotheses:\n",
    "\n",
    "$$ H_0 : CTR_{{new}}<= CTR_{{old}}$$\n",
    "\n",
    "\n",
    "$$H_1 : CTR_{{new}} > CTR_{{old}}$$"
   ]
  },
  {
   "cell_type": "code",
   "execution_count": 15,
   "metadata": {},
   "outputs": [
    {
     "data": {
      "text/html": [
       "<div>\n",
       "<style scoped>\n",
       "    .dataframe tbody tr th:only-of-type {\n",
       "        vertical-align: middle;\n",
       "    }\n",
       "\n",
       "    .dataframe tbody tr th {\n",
       "        vertical-align: top;\n",
       "    }\n",
       "\n",
       "    .dataframe thead th {\n",
       "        text-align: right;\n",
       "    }\n",
       "</style>\n",
       "<table border=\"1\" class=\"dataframe\">\n",
       "  <thead>\n",
       "    <tr style=\"text-align: right;\">\n",
       "      <th></th>\n",
       "      <th>timestamp</th>\n",
       "      <th>id</th>\n",
       "      <th>group</th>\n",
       "      <th>action</th>\n",
       "      <th>duration</th>\n",
       "    </tr>\n",
       "  </thead>\n",
       "  <tbody>\n",
       "    <tr>\n",
       "      <th>0</th>\n",
       "      <td>2016-09-24 17:14:52.012145</td>\n",
       "      <td>261869</td>\n",
       "      <td>experiment</td>\n",
       "      <td>view</td>\n",
       "      <td>130.545004</td>\n",
       "    </tr>\n",
       "    <tr>\n",
       "      <th>1</th>\n",
       "      <td>2016-09-24 18:45:09.645857</td>\n",
       "      <td>226546</td>\n",
       "      <td>experiment</td>\n",
       "      <td>view</td>\n",
       "      <td>159.862440</td>\n",
       "    </tr>\n",
       "    <tr>\n",
       "      <th>2</th>\n",
       "      <td>2016-09-24 19:16:21.002533</td>\n",
       "      <td>286353</td>\n",
       "      <td>experiment</td>\n",
       "      <td>view</td>\n",
       "      <td>79.349315</td>\n",
       "    </tr>\n",
       "    <tr>\n",
       "      <th>3</th>\n",
       "      <td>2016-09-24 19:43:06.927785</td>\n",
       "      <td>842279</td>\n",
       "      <td>experiment</td>\n",
       "      <td>view</td>\n",
       "      <td>55.536126</td>\n",
       "    </tr>\n",
       "    <tr>\n",
       "      <th>4</th>\n",
       "      <td>2016-09-24 21:08:22.790333</td>\n",
       "      <td>781883</td>\n",
       "      <td>experiment</td>\n",
       "      <td>view</td>\n",
       "      <td>204.322437</td>\n",
       "    </tr>\n",
       "  </tbody>\n",
       "</table>\n",
       "</div>"
      ],
      "text/plain": [
       "                    timestamp      id       group action    duration\n",
       "0  2016-09-24 17:14:52.012145  261869  experiment   view  130.545004\n",
       "1  2016-09-24 18:45:09.645857  226546  experiment   view  159.862440\n",
       "2  2016-09-24 19:16:21.002533  286353  experiment   view   79.349315\n",
       "3  2016-09-24 19:43:06.927785  842279  experiment   view   55.536126\n",
       "4  2016-09-24 21:08:22.790333  781883  experiment   view  204.322437"
      ]
     },
     "execution_count": 15,
     "metadata": {},
     "output_type": "execute_result"
    }
   ],
   "source": [
    "np.random.seed(42)\n",
    "df_coursepage = pd.read_csv('course_page_actions.csv')\n",
    "df_coursepage.head()"
   ]
  },
  {
   "cell_type": "code",
   "execution_count": 16,
   "metadata": {},
   "outputs": [
    {
     "data": {
      "text/plain": [
       "0.2364438839848676"
      ]
     },
     "execution_count": 16,
     "metadata": {},
     "output_type": "execute_result"
    }
   ],
   "source": [
    "# Get dataframe with all records from control group\n",
    "control_df = df_coursepage.query('group == \"control\"')\n",
    "\n",
    "# Compute click through rate for control group\n",
    "control_ctr = control_df.query('action == \"enroll\"').id.nunique() / control_df.query('action == \"view\"').id.nunique()\n",
    "\n",
    "# Display click through rate\n",
    "control_ctr"
   ]
  },
  {
   "cell_type": "code",
   "execution_count": 17,
   "metadata": {},
   "outputs": [
    {
     "data": {
      "text/plain": [
       "0.2668693009118541"
      ]
     },
     "execution_count": 17,
     "metadata": {},
     "output_type": "execute_result"
    }
   ],
   "source": [
    "# Get dataframe with all records from experiment group\n",
    "experiment_df = df_coursepage.query('group == \"experiment\"')\n",
    "\n",
    "# Compute click through rate for experiment group\n",
    "experiment_ctr = experiment_df.query('action == \"enroll\"').id.nunique() / experiment_df.query('action == \"view\"').id.nunique()\n",
    "\n",
    "# Display click through rate\n",
    "experiment_ctr"
   ]
  },
  {
   "cell_type": "code",
   "execution_count": 18,
   "metadata": {},
   "outputs": [
    {
     "data": {
      "text/plain": [
       "0.030425416926986526"
      ]
     },
     "execution_count": 18,
     "metadata": {},
     "output_type": "execute_result"
    }
   ],
   "source": [
    "# Compute the observed difference in click through rates\n",
    "obs_diff = experiment_ctr - control_ctr\n",
    "\n",
    "# Display observed difference\n",
    "obs_diff"
   ]
  },
  {
   "cell_type": "code",
   "execution_count": 19,
   "metadata": {},
   "outputs": [],
   "source": [
    "# Create a sampling distribution of the difference in proportions\n",
    "# with bootstrapping\n",
    "\n",
    "diffs_coursepage = []\n",
    "\n",
    "for _ in range(10000):\n",
    "    bootsample = df_coursepage.sample(df_coursepage.shape[0], replace=True)\n",
    "    control_df = bootsample.query('group == \"control\"')\n",
    "    experiment_df = bootsample.query('group == \"experiment\"')\n",
    "    control_ctr = control_df.query('action == \"enroll\"').id.nunique() / control_df.query('action == \"view\"').id.nunique()\n",
    "    experiment_ctr = experiment_df.query('action == \"enroll\"').id.nunique() / experiment_df.query('action == \"view\"').id.nunique()\n",
    "    diffs_coursepage.append(experiment_ctr - control_ctr)\n"
   ]
  },
  {
   "cell_type": "code",
   "execution_count": 20,
   "metadata": {},
   "outputs": [
    {
     "data": {
      "image/png": "[encoded data removed]",
      "text/plain": [
       "<Figure size 640x480 with 1 Axes>"
      ]
     },
     "metadata": {},
     "output_type": "display_data"
    }
   ],
   "source": [
    "plt.hist(diffs_coursepage);\n"
   ]
  },
  {
   "cell_type": "code",
   "execution_count": 21,
   "metadata": {},
   "outputs": [],
   "source": [
    "diffs_coursepage = np.array(diffs_coursepage)\n",
    "null_vals = np.random.normal(0,diffs_coursepage.std(), diffs_coursepage.size)"
   ]
  },
  {
   "cell_type": "code",
   "execution_count": 22,
   "metadata": {},
   "outputs": [
    {
     "name": "stdout",
     "output_type": "stream",
     "text": [
      "                 Statistic =  0.030425416926986526\n"
     ]
    },
    {
     "data": {
      "image/png": "[encoded data removed]",
      "text/plain": [
       "<Figure size 640x480 with 1 Axes>"
      ]
     },
     "metadata": {},
     "output_type": "display_data"
    }
   ],
   "source": [
    "plt.hist(null_vals);\n",
    "plt.axvline(x = obs_diff, color = \"red\");\n",
    "print(\"                 Statistic = \",obs_diff)"
   ]
  },
  {
   "cell_type": "markdown",
   "metadata": {},
   "source": [
    "#### Calculating the P-value"
   ]
  },
  {
   "cell_type": "code",
   "execution_count": 23,
   "metadata": {},
   "outputs": [
    {
     "data": {
      "text/plain": [
       "0.0188"
      ]
     },
     "execution_count": 23,
     "metadata": {},
     "output_type": "execute_result"
    }
   ],
   "source": [
    "p_value = (null_vals > obs_diff).mean()\n",
    "p_value"
   ]
  },
  {
   "cell_type": "markdown",
   "metadata": {},
   "source": [
    "#### Conclusion\n",
    "We will reject the null hypothesis as the P-value = 0.0188 which is less than 0.05 and we use confidence of 95% (α = 0.05) this means that the enrollment rate for this course increases when using the experimental description on its overview page"
   ]
  },
  {
   "cell_type": "markdown",
   "metadata": {},
   "source": [
    "---"
   ]
  },
  {
   "cell_type": "markdown",
   "metadata": {},
   "source": [
    "\n",
    "\n",
    "\n",
    "\n",
    "2) Average Reading Duration\n",
    "\n",
    "    Metric: Average number of seconds spent on the course overview page\n",
    "\n",
    "    Now that we have our metric, let's set up our null and alternative hypotheses:\n",
    "\n",
    "$$ H_0 : RAVG_ {{new}}<= RAVG_ {{old}}$$\n",
    "\n",
    "\n",
    "$$H_1 : RAVG_ {{new}} > RAVG_ {{old}}$$"
   ]
  },
  {
   "cell_type": "code",
   "execution_count": 82,
   "metadata": {},
   "outputs": [],
   "source": [
    "np.random.seed(42)\n"
   ]
  },
  {
   "cell_type": "code",
   "execution_count": 25,
   "metadata": {},
   "outputs": [
    {
     "data": {
      "text/plain": [
       "(115.40710650582048, 130.93220512539497)"
      ]
     },
     "execution_count": 25,
     "metadata": {},
     "output_type": "execute_result"
    }
   ],
   "source": [
    "control_mean = df_coursepage.query('group == \"control\"')['duration'].mean()\n",
    "experiment_mean = df_coursepage.query('group == \"experiment\"')['duration'].mean()\n",
    "control_mean, experiment_mean\n"
   ]
  },
  {
   "cell_type": "code",
   "execution_count": 26,
   "metadata": {},
   "outputs": [
    {
     "data": {
      "text/plain": [
       "15.525098619574493"
      ]
     },
     "execution_count": 26,
     "metadata": {},
     "output_type": "execute_result"
    }
   ],
   "source": [
    "obs_diff = experiment_mean - control_mean\n",
    "obs_diff"
   ]
  },
  {
   "cell_type": "code",
   "execution_count": 27,
   "metadata": {},
   "outputs": [],
   "source": [
    "diffs = []\n",
    "for _ in range(10000):\n",
    "    bootsample = df_coursepage.sample(df_coursepage.shape[0],replace = True)\n",
    "    control_mean = bootsample.query('group == \"control\"')['duration'].mean()\n",
    "    experiment_mean = bootsample.query('group == \"experiment\"')['duration'].mean()\n",
    "    diffs.append(experiment_mean - control_mean)"
   ]
  },
  {
   "cell_type": "code",
   "execution_count": 28,
   "metadata": {},
   "outputs": [
    {
     "data": {
      "image/png": "[encoded data removed]",
      "text/plain": [
       "<Figure size 640x480 with 1 Axes>"
      ]
     },
     "metadata": {},
     "output_type": "display_data"
    }
   ],
   "source": [
    "diffs = np.array(diffs)\n",
    "plt.hist(diffs);"
   ]
  },
  {
   "cell_type": "code",
   "execution_count": 29,
   "metadata": {},
   "outputs": [],
   "source": [
    "null_vals = np.random.normal(0,diffs.std(), diffs.size)"
   ]
  },
  {
   "cell_type": "code",
   "execution_count": 30,
   "metadata": {},
   "outputs": [
    {
     "name": "stdout",
     "output_type": "stream",
     "text": [
      "                 Statistic =  15.525098619574493\n"
     ]
    },
    {
     "data": {
      "image/png": "[encoded data removed]",
      "text/plain": [
       "<Figure size 640x480 with 1 Axes>"
      ]
     },
     "metadata": {},
     "output_type": "display_data"
    }
   ],
   "source": [
    "plt.hist(null_vals);\n",
    "plt.axvline(x = obs_diff, color = \"red\");\n",
    "print(\"                 Statistic = \",obs_diff)"
   ]
  },
  {
   "cell_type": "markdown",
   "metadata": {},
   "source": [
    "#### Calculating the P-value"
   ]
  },
  {
   "cell_type": "code",
   "execution_count": 31,
   "metadata": {},
   "outputs": [
    {
     "data": {
      "text/plain": [
       "0.0"
      ]
     },
     "execution_count": 31,
     "metadata": {},
     "output_type": "execute_result"
    }
   ],
   "source": [
    "p_value = (null_vals > obs_diff).mean()\n",
    "p_value"
   ]
  },
  {
   "cell_type": "markdown",
   "metadata": {},
   "source": [
    "#### Conclusion\n",
    "We will reject the null hypothesis as the P-value = 0 which is less than 0.05 and we use confidence of 95% (α = 0.05) this means that the average reading time for experiment users that uses the new change is more than the control users "
   ]
  },
  {
   "cell_type": "markdown",
   "metadata": {},
   "source": [
    "---"
   ]
  },
  {
   "cell_type": "markdown",
   "metadata": {},
   "source": [
    "\n",
    "\n",
    "\n",
    "\n",
    "3) Average Classroom Time\n",
    "\n",
    "    Metric: Average number of days spent in the classroom for students enrolled in the course\n",
    "    Now that we have our metric, let's set up our null and alternative hypotheses:\n",
    "\n",
    "$$ H_0 : DAVG_ {{new}}<= DAVG_ {{old}}$$\n",
    "\n",
    "\n",
    "$$H_1 : DAVG_ {{new}} > DAVG_ {{old}}$$"
   ]
  },
  {
   "cell_type": "code",
   "execution_count": 33,
   "metadata": {},
   "outputs": [
    {
     "data": {
      "text/html": [
       "<div>\n",
       "<style scoped>\n",
       "    .dataframe tbody tr th:only-of-type {\n",
       "        vertical-align: middle;\n",
       "    }\n",
       "\n",
       "    .dataframe tbody tr th {\n",
       "        vertical-align: top;\n",
       "    }\n",
       "\n",
       "    .dataframe thead th {\n",
       "        text-align: right;\n",
       "    }\n",
       "</style>\n",
       "<table border=\"1\" class=\"dataframe\">\n",
       "  <thead>\n",
       "    <tr style=\"text-align: right;\">\n",
       "      <th></th>\n",
       "      <th>timestamp</th>\n",
       "      <th>id</th>\n",
       "      <th>group</th>\n",
       "      <th>total_days</th>\n",
       "      <th>completed</th>\n",
       "    </tr>\n",
       "  </thead>\n",
       "  <tbody>\n",
       "    <tr>\n",
       "      <th>0</th>\n",
       "      <td>2015-08-10 17:06:01.032740</td>\n",
       "      <td>610019</td>\n",
       "      <td>experiment</td>\n",
       "      <td>97</td>\n",
       "      <td>True</td>\n",
       "    </tr>\n",
       "    <tr>\n",
       "      <th>1</th>\n",
       "      <td>2015-08-10 17:15:28.950975</td>\n",
       "      <td>690224</td>\n",
       "      <td>control</td>\n",
       "      <td>75</td>\n",
       "      <td>False</td>\n",
       "    </tr>\n",
       "    <tr>\n",
       "      <th>2</th>\n",
       "      <td>2015-08-10 17:34:40.920384</td>\n",
       "      <td>564994</td>\n",
       "      <td>experiment</td>\n",
       "      <td>128</td>\n",
       "      <td>True</td>\n",
       "    </tr>\n",
       "    <tr>\n",
       "      <th>3</th>\n",
       "      <td>2015-08-10 17:50:39.847374</td>\n",
       "      <td>849588</td>\n",
       "      <td>experiment</td>\n",
       "      <td>66</td>\n",
       "      <td>False</td>\n",
       "    </tr>\n",
       "    <tr>\n",
       "      <th>4</th>\n",
       "      <td>2015-08-10 19:10:40.650599</td>\n",
       "      <td>849826</td>\n",
       "      <td>experiment</td>\n",
       "      <td>34</td>\n",
       "      <td>False</td>\n",
       "    </tr>\n",
       "  </tbody>\n",
       "</table>\n",
       "</div>"
      ],
      "text/plain": [
       "                    timestamp      id       group  total_days  completed\n",
       "0  2015-08-10 17:06:01.032740  610019  experiment          97       True\n",
       "1  2015-08-10 17:15:28.950975  690224     control          75      False\n",
       "2  2015-08-10 17:34:40.920384  564994  experiment         128       True\n",
       "3  2015-08-10 17:50:39.847374  849588  experiment          66      False\n",
       "4  2015-08-10 19:10:40.650599  849826  experiment          34      False"
      ]
     },
     "execution_count": 33,
     "metadata": {},
     "output_type": "execute_result"
    }
   ],
   "source": [
    "np.random.seed(42)\n",
    "df_classroom = pd.read_csv('classroom_actions.csv')\n",
    "df_classroom.head()"
   ]
  },
  {
   "cell_type": "code",
   "execution_count": 34,
   "metadata": {},
   "outputs": [
    {
     "data": {
      "text/plain": [
       "(73.36899038461539, 74.6715935334873)"
      ]
     },
     "execution_count": 34,
     "metadata": {},
     "output_type": "execute_result"
    }
   ],
   "source": [
    "# get the average classroom time for control group\n",
    "control_mean = df_classroom.query('group == \"control\"')['total_days'].mean()\n",
    "\n",
    "# get the average classroom time for experiment group\n",
    "experiment_mean = df_classroom.query('group == \"experiment\"')['total_days'].mean()\n",
    "\n",
    "\n",
    "# display average classroom time for each group\n",
    "control_mean, experiment_mean"
   ]
  },
  {
   "cell_type": "code",
   "execution_count": 35,
   "metadata": {},
   "outputs": [
    {
     "data": {
      "text/plain": [
       "1.3026031488719099"
      ]
     },
     "execution_count": 35,
     "metadata": {},
     "output_type": "execute_result"
    }
   ],
   "source": [
    "# compute observed difference in classroom time\n",
    "obs_diff = experiment_mean - control_mean\n",
    "\n",
    "# display observed difference\n",
    "obs_diff"
   ]
  },
  {
   "cell_type": "code",
   "execution_count": 36,
   "metadata": {},
   "outputs": [],
   "source": [
    "# create sampling distribution of difference in average classroom times\n",
    "# with boostrapping\n",
    "diffs = []\n",
    "for _ in range(10000):\n",
    "    bootsample = df_classroom.sample(df.shape[0], replace = True)\n",
    "    control_mean = bootsample.query('group == \"control\"')['total_days'].mean()\n",
    "    experiment_mean = bootsample.query('group == \"experiment\"')['total_days'].mean()\n",
    "    diffs.append(experiment_mean - control_mean)\n"
   ]
  },
  {
   "cell_type": "code",
   "execution_count": 37,
   "metadata": {},
   "outputs": [],
   "source": [
    "# convert to numpy array\n",
    "diffs = np.array(diffs)"
   ]
  },
  {
   "cell_type": "code",
   "execution_count": 38,
   "metadata": {},
   "outputs": [
    {
     "data": {
      "image/png": "[encoded data removed]",
      "text/plain": [
       "<Figure size 640x480 with 1 Axes>"
      ]
     },
     "metadata": {},
     "output_type": "display_data"
    }
   ],
   "source": [
    "# plot sampling distribution\n",
    "plt.hist(diffs);"
   ]
  },
  {
   "cell_type": "code",
   "execution_count": 39,
   "metadata": {},
   "outputs": [
    {
     "name": "stdout",
     "output_type": "stream",
     "text": [
      "                 Statistic =  1.3026031488719099\n"
     ]
    },
    {
     "data": {
      "image/png": "[encoded data removed]",
      "text/plain": [
       "<Figure size 640x480 with 1 Axes>"
      ]
     },
     "metadata": {},
     "output_type": "display_data"
    }
   ],
   "source": [
    "# simulate distribution under the null hypothesis\n",
    "null_vals = np.random.normal( 0, diffs.std(), diffs.size)\n",
    "plt.hist(null_vals);\n",
    "plt.axvline(x = obs_diff, color = \"red\");\n",
    "print(\"                 Statistic = \",obs_diff)"
   ]
  },
  {
   "cell_type": "code",
   "execution_count": 40,
   "metadata": {},
   "outputs": [
    {
     "data": {
      "text/plain": [
       "0.0384"
      ]
     },
     "execution_count": 40,
     "metadata": {},
     "output_type": "execute_result"
    }
   ],
   "source": [
    "# compute p value\n",
    "p_value = (null_vals > obs_diff).mean()\n",
    "p_value"
   ]
  },
  {
   "cell_type": "markdown",
   "metadata": {},
   "source": [
    "#### Conclusion\n",
    "We will reject the null hypothesis as the P-value = 0.0384 which is less than 0.05 and we use confidence of 95% (α = 0.05) this means that the average days the student engage with the classroom for experiment users is more than the control users \n",
    "\n",
    "Even if the increase in classroom time is statistically significant, engaging students for 1.3 more days in the classroom, when they average around 74 days in total, doesn't seem to indicate a large enough value to launch this change from a practical perspective for Website."
   ]
  },
  {
   "cell_type": "markdown",
   "metadata": {},
   "source": [
    "---"
   ]
  },
  {
   "cell_type": "markdown",
   "metadata": {},
   "source": [
    "\n",
    "\n",
    "\n",
    "\n",
    "4) Completion Rate\n",
    "\n",
    "    Metric: Course completion rate for students enrolled in the course\n",
    "    Now that we have our metric, let's set up our null and alternative hypotheses:\n",
    "\n",
    "$$ H_0 : CR_ {{new}}<= CR_ {{old}}$$\n",
    "\n",
    "\n",
    "$$H_1 : CR_ {{new}} > CR_ {{old}}$$"
   ]
  },
  {
   "cell_type": "code",
   "execution_count": 53,
   "metadata": {},
   "outputs": [],
   "source": [
    "np.random.seed(42)"
   ]
  },
  {
   "cell_type": "code",
   "execution_count": 54,
   "metadata": {},
   "outputs": [
    {
     "data": {
      "text/plain": [
       "0.3719951923076923"
      ]
     },
     "execution_count": 54,
     "metadata": {},
     "output_type": "execute_result"
    }
   ],
   "source": [
    "# Create dataframe with all control records\n",
    "control_df = df_classroom.query('group == \"control\"')\n",
    "\n",
    "# Compute completion rate\n",
    "control_ctr = control_df['completed'].mean()\n",
    "\n",
    "# Display control complete rate\n",
    "control_ctr\n"
   ]
  },
  {
   "cell_type": "code",
   "execution_count": 55,
   "metadata": {},
   "outputs": [
    {
     "data": {
      "text/plain": [
       "0.3935334872979215"
      ]
     },
     "execution_count": 55,
     "metadata": {},
     "output_type": "execute_result"
    }
   ],
   "source": [
    "# Create dataframe with all experiment records\n",
    "experiment_df = df_classroom.query('group == \"experiment\"')\n",
    "\n",
    "# Compute completion rate\n",
    "experiment_ctr = experiment_df['completed'].mean()\n",
    "\n",
    "# Display experiment complete rate\n",
    "experiment_ctr"
   ]
  },
  {
   "cell_type": "code",
   "execution_count": 56,
   "metadata": {},
   "outputs": [
    {
     "data": {
      "text/plain": [
       "0.02153829499022919"
      ]
     },
     "execution_count": 56,
     "metadata": {},
     "output_type": "execute_result"
    }
   ],
   "source": [
    "# Compute observed difference in completion rates\n",
    "obs_diff = experiment_ctr - control_ctr\n",
    "\n",
    "# Display observed difference in completion rates\n",
    "obs_diff"
   ]
  },
  {
   "cell_type": "code",
   "execution_count": 57,
   "metadata": {},
   "outputs": [],
   "source": [
    "# Create sampling distribution for difference in completion rates\n",
    "# with boostrapping\n",
    "diffs = []\n",
    "size = df_classroom.shape[0]\n",
    "for _ in range(10000):\n",
    "    bootsample = df_classroom.sample(size, replace=True)\n",
    "    control_df = bootsample.query('group == \"control\"')\n",
    "    experiment_df = bootsample.query('group == \"experiment\"')\n",
    "    control_ctr = control_df['completed'].mean()\n",
    "    experiment_ctr = experiment_df['completed'].mean()\n",
    "    diffs.append(experiment_ctr - control_ctr)"
   ]
  },
  {
   "cell_type": "code",
   "execution_count": 58,
   "metadata": {},
   "outputs": [],
   "source": [
    "# convert to numpy array\n",
    "diffs = np.array(diffs)"
   ]
  },
  {
   "cell_type": "code",
   "execution_count": 59,
   "metadata": {},
   "outputs": [
    {
     "data": {
      "image/png": "[encoded data removed]",
      "text/plain": [
       "<Figure size 640x480 with 1 Axes>"
      ]
     },
     "metadata": {},
     "output_type": "display_data"
    }
   ],
   "source": [
    "# plot distribution\n",
    "plt.hist(diffs);"
   ]
  },
  {
   "cell_type": "code",
   "execution_count": 60,
   "metadata": {},
   "outputs": [],
   "source": [
    "# create distribution under the null hypothesis\n",
    "null_vals = np.random.normal(0, diffs.std(), diffs.size)"
   ]
  },
  {
   "cell_type": "code",
   "execution_count": 61,
   "metadata": {},
   "outputs": [
    {
     "data": {
      "image/png": "[encoded data removed]",
      "text/plain": [
       "<Figure size 640x480 with 1 Axes>"
      ]
     },
     "metadata": {},
     "output_type": "display_data"
    }
   ],
   "source": [
    "# plot null distribution\n",
    "plt.hist(null_vals);\n",
    "\n",
    "# plot line for observed statistic\n",
    "plt.axvline(obs_diff, c='red');"
   ]
  },
  {
   "cell_type": "code",
   "execution_count": 62,
   "metadata": {},
   "outputs": [
    {
     "data": {
      "text/plain": [
       "0.0846"
      ]
     },
     "execution_count": 62,
     "metadata": {},
     "output_type": "execute_result"
    }
   ],
   "source": [
    "# compute p value\n",
    "(null_vals > obs_diff).mean()"
   ]
  },
  {
   "cell_type": "markdown",
   "metadata": {},
   "source": [
    "#### Conclusion\n",
    "We will not reject the null hypothesis as the P-value = 0.0846 which is more than 0.05 and we use confidence of 95% (α = 0.05) this means that the completion rate after the second change has no significance effect before the change of the description on course overview page\n"
   ]
  },
  {
   "cell_type": "markdown",
   "metadata": {},
   "source": [
    "---"
   ]
  },
  {
   "cell_type": "markdown",
   "metadata": {},
   "source": [
    "#### The Challenge of Multiple Testing in Website Optimization\n",
    "When it comes to optimizing a website, it's common practice to experiment with various changes to improve user engagement and performance. However, conducting multiple tests simultaneously can lead to an increased risk of false positives, where we mistakenly conclude that a change has a significant impact when it actually doesn't."
   ]
  },
  {
   "cell_type": "markdown",
   "metadata": {},
   "source": [
    "#### The Problem:\n",
    "Suppose we're analyzing the effectiveness of two different changes to our website:\n",
    "1) The first change they want to try is on their homepage.\n",
    "2) The second change is changing the description on a course overview page.\n",
    "\n",
    " each targeting a different aspect such as click-through rate (CTR) of the homepage, enrollment rate, reading duration, classroom time, and completion rate. and  If we were to test each metric individually using a significance level (alpha) of 0.05 (or 5%), we'd expect a 5% chance of encountering a false positive for each test. However, when conducting multiple tests simultaneously, this risk accumulates that can become about  0.2262 significance which is very high."
   ]
  },
  {
   "cell_type": "markdown",
   "metadata": {},
   "source": [
    "#### The Solution\n",
    "To address this issue and ensure robust statistical inference, we employ the Holm-Bonferroni method. This method adjusts the significance level for each test based on the number of comparisons being made, thereby controlling the overall family-wise error rate."
   ]
  },
  {
   "cell_type": "markdown",
   "metadata": {},
   "source": [
    "\n",
    "### Applying the Holm-Bonferroni Method for Multiple Testing Correction\n",
    "\n",
    "1. **Order the p-values:**\n",
    "   - Arrange the p-values in ascending order.\n",
    "\n",
    "2. **Calculate adjusted significance levels:**\n",
    "   - For each rank (starting from the smallest p-value), compute the adjusted significance level using the formula:\n",
    "   \n",
    "     - $ HB = \\frac{\\text{Target } \\alpha}{n - \\text{rank} + 1} $\n",
    "     - Where:\n",
    "     \n",
    "       - $ \\text{Target } \\alpha $ is the desired overall significance level (usually 0.05).\n",
    "       - $ n $ is the total number of tests.\n",
    "       - $ \\text{rank} $ is the rank of the current p-value.\n",
    "\n",
    "3. **Compare p-values to adjusted significance levels:**\n",
    "   - Start with the smallest p-value and compare it to the corresponding adjusted significance level.\n",
    "   - If the p-value is smaller than or equal to the adjusted significance level, reject the null hypothesis for that test.\n",
    "\n",
    "4. **Stop testing after the first non-rejected hypothesis:**\n",
    "   - Once a hypothesis is not rejected, stop testing. All subsequent hypotheses are considered non-significant.\n",
    "\n",
    "\n",
    "​\n"
   ]
  },
  {
   "cell_type": "code",
   "execution_count": 63,
   "metadata": {},
   "outputs": [],
   "source": [
    "# We have all the p-values sorted assendingly in the following dictionary:\n",
    "p_values = {\n",
    "    'Reading Duration': 0,\n",
    "    'CTR of Homepage': 0.0055,\n",
    "    'Enrollment Rate': 0.0188,\n",
    "    'Classroom Time': 0.0384,\n",
    "    'Completion Rate': 0.0846\n",
    "}\n"
   ]
  },
  {
   "cell_type": "code",
   "execution_count": 80,
   "metadata": {},
   "outputs": [],
   "source": [
    "### the adjusted p-values will computed by the following:\n",
    "adjusted_alpha = {\n",
    "    'Reading Duration': (0.05)/(5-1+1),\n",
    "    'CTR of Homepage': (0.05)/(5-2+1),\n",
    "    'Enrollment Rate': (0.05)/(5-3+1),\n",
    "    'Classroom Time': (0.05)/(5-4+1),\n",
    "    'Completion Rate': (0.05)/(5-5+1)\n",
    "}"
   ]
  },
  {
   "cell_type": "code",
   "execution_count": 81,
   "metadata": {},
   "outputs": [
    {
     "data": {
      "text/plain": [
       "{'Reading Duration': 0.01,\n",
       " 'CTR of Homepage': 0.0125,\n",
       " 'Enrollment Rate': 0.016666666666666666,\n",
       " 'Classroom Time': 0.025,\n",
       " 'Completion Rate': 0.05}"
      ]
     },
     "execution_count": 81,
     "metadata": {},
     "output_type": "execute_result"
    }
   ],
   "source": [
    "adjusted_alpha"
   ]
  },
  {
   "cell_type": "markdown",
   "metadata": {},
   "source": [
    "#### Conclusion:\n",
    "These adjusted p-values will compare it with significance error 0.05 then:\n",
    "1) CTR of Homepage p-value = 0.0055 whcih is less than 0.0125 then { Reject Null Hypnothesis}\n",
    "2) Reading Duration p-value = 0 whcih is less than 0.01 then { Reject Null Hypnothesis}\n",
    "3) Enrollment Rate p-value = 0.0188 whcih is more than 0.01666 then { Don't reject Null Hypnothesis}\n",
    "4) Classroom Time p-value = 0.0384 whcih is more than 0.025 then { Don't reject Null Hypnothesis}\n",
    "5) Completion Rate p-value = 0.0846 whcih is more than 0.05 then { Don't reject Null Hypnothesis}\n",
    "\n"
   ]
  },
  {
   "cell_type": "markdown",
   "metadata": {},
   "source": [
    "Based on the statistical analysis and interpretation of the data, it is recommended to consider implementing the changes to the website that have shown statistically significant improvements in user engagement metrics, such as increasing reading duration and increasing the click-through rate (CTR) of the homepage, so the new website has advantage on 2 metrics from 5 "
   ]
  }
 ],
 "metadata": {
  "kernelspec": {
   "display_name": "Python 3",
   "language": "python",
   "name": "python3"
  },
  "language_info": {
   "codemirror_mode": {
    "name": "ipython",
    "version": 3
   },
   "file_extension": ".py",
   "mimetype": "text/x-python",
   "name": "python",
   "nbconvert_exporter": "python",
   "pygments_lexer": "ipython3",
   "version": "3.12.3"
  }
 },
 "nbformat": 4,
 "nbformat_minor": 2
}
